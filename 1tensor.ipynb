{
 "cells": [
  {
   "cell_type": "code",
   "execution_count": 1,
   "id": "2f46ec27-21bd-4647-ac4c-61b88d86c8aa",
   "metadata": {},
   "outputs": [],
   "source": [
    "import torch\n",
    "import numpy as np"
   ]
  },
  {
   "cell_type": "code",
   "execution_count": 2,
   "id": "1c8fd10b-4b3a-4a72-a327-a17ec6a6eff9",
   "metadata": {},
   "outputs": [],
   "source": [
    "data = [[1, 2], [3, 4]]\n",
    "x_data = torch.tensor(data)"
   ]
  },
  {
   "cell_type": "code",
   "execution_count": 4,
   "id": "388c7aa2-db99-4170-ae74-5f2f4b6b4122",
   "metadata": {},
   "outputs": [],
   "source": [
    "np_array = np.array(data)\n",
    "x_np = torch.from_numpy(np_array)"
   ]
  },
  {
   "cell_type": "code",
   "execution_count": 5,
   "id": "4900920f-0056-468b-86e8-7f1f20752073",
   "metadata": {},
   "outputs": [
    {
     "data": {
      "text/plain": [
       "array([[1, 2],\n",
       "       [3, 4]])"
      ]
     },
     "execution_count": 5,
     "metadata": {},
     "output_type": "execute_result"
    }
   ],
   "source": [
    "np_array"
   ]
  },
  {
   "cell_type": "code",
   "execution_count": 6,
   "id": "49797399-6589-47a6-90a0-244a0777964f",
   "metadata": {},
   "outputs": [
    {
     "data": {
      "text/plain": [
       "tensor([[1, 2],\n",
       "        [3, 4]])"
      ]
     },
     "execution_count": 6,
     "metadata": {},
     "output_type": "execute_result"
    }
   ],
   "source": [
    "x_np"
   ]
  },
  {
   "cell_type": "code",
   "execution_count": 7,
   "id": "2c5ba1f0-08b7-49cd-92d3-04ec9b1646e6",
   "metadata": {},
   "outputs": [],
   "source": [
    "tensor = torch.rand(3, 4)"
   ]
  },
  {
   "cell_type": "code",
   "execution_count": 8,
   "id": "fef0f614-96df-4d77-a5e6-5726497bd501",
   "metadata": {},
   "outputs": [
    {
     "data": {
      "text/plain": [
       "tensor([[0.5103, 0.7795, 0.3464, 0.0375],\n",
       "        [0.1106, 0.2268, 0.7335, 0.9653],\n",
       "        [0.4033, 0.4413, 0.7420, 0.7734]])"
      ]
     },
     "execution_count": 8,
     "metadata": {},
     "output_type": "execute_result"
    }
   ],
   "source": [
    "tensor"
   ]
  },
  {
   "cell_type": "code",
   "execution_count": 9,
   "id": "695e0463-4f50-43b5-95c5-995c47ba45f0",
   "metadata": {},
   "outputs": [
    {
     "data": {
      "text/plain": [
       "(torch.Size([3, 4]), torch.float32, device(type='cpu'))"
      ]
     },
     "execution_count": 9,
     "metadata": {},
     "output_type": "execute_result"
    }
   ],
   "source": [
    "tensor.shape, tensor.dtype, tensor.device"
   ]
  },
  {
   "cell_type": "code",
   "execution_count": 10,
   "id": "dd6e978f-e6d4-4fb2-b8dd-6070875349b3",
   "metadata": {},
   "outputs": [
    {
     "data": {
      "text/plain": [
       "tensor([0.5103, 0.7795, 0.3464, 0.0375])"
      ]
     },
     "execution_count": 10,
     "metadata": {},
     "output_type": "execute_result"
    }
   ],
   "source": [
    "tensor[0]"
   ]
  },
  {
   "cell_type": "code",
   "execution_count": 11,
   "id": "abbd6245-2657-453d-8f29-fa4a6cd66ca3",
   "metadata": {},
   "outputs": [
    {
     "data": {
      "text/plain": [
       "tensor([0.5103, 0.1106, 0.4033])"
      ]
     },
     "execution_count": 11,
     "metadata": {},
     "output_type": "execute_result"
    }
   ],
   "source": [
    "tensor[:, 0]"
   ]
  },
  {
   "cell_type": "code",
   "execution_count": 12,
   "id": "bde8d60a-1f70-4670-b31c-b9ba7bbd79f7",
   "metadata": {},
   "outputs": [
    {
     "data": {
      "text/plain": [
       "tensor([0.0375, 0.9653, 0.7734])"
      ]
     },
     "execution_count": 12,
     "metadata": {},
     "output_type": "execute_result"
    }
   ],
   "source": [
    "tensor[...,-1]"
   ]
  },
  {
   "cell_type": "code",
   "execution_count": 13,
   "id": "edfbccbd-7e7d-4dbc-aa1b-d3447d496973",
   "metadata": {},
   "outputs": [],
   "source": [
    "t1 = torch.cat([tensor, tensor, tensor], dim=1)"
   ]
  },
  {
   "cell_type": "code",
   "execution_count": 14,
   "id": "75edcc30-f5bf-434d-9ff0-bce622c029b8",
   "metadata": {},
   "outputs": [
    {
     "data": {
      "text/plain": [
       "tensor([[0.5103, 0.7795, 0.3464, 0.0375, 0.5103, 0.7795, 0.3464, 0.0375, 0.5103,\n",
       "         0.7795, 0.3464, 0.0375],\n",
       "        [0.1106, 0.2268, 0.7335, 0.9653, 0.1106, 0.2268, 0.7335, 0.9653, 0.1106,\n",
       "         0.2268, 0.7335, 0.9653],\n",
       "        [0.4033, 0.4413, 0.7420, 0.7734, 0.4033, 0.4413, 0.7420, 0.7734, 0.4033,\n",
       "         0.4413, 0.7420, 0.7734]])"
      ]
     },
     "execution_count": 14,
     "metadata": {},
     "output_type": "execute_result"
    }
   ],
   "source": [
    "t1"
   ]
  },
  {
   "cell_type": "code",
   "execution_count": 18,
   "id": "ab2ecb44-44bc-4e9b-92ce-9a174fb5c3c2",
   "metadata": {},
   "outputs": [
    {
     "data": {
      "text/plain": [
       "tensor([[0.5103, 0.7795, 0.3464, 0.0375],\n",
       "        [0.1106, 0.2268, 0.7335, 0.9653],\n",
       "        [0.4033, 0.4413, 0.7420, 0.7734]])"
      ]
     },
     "execution_count": 18,
     "metadata": {},
     "output_type": "execute_result"
    }
   ],
   "source": [
    "tensor"
   ]
  },
  {
   "cell_type": "code",
   "execution_count": 16,
   "id": "ec366063-707d-4f7c-a543-3a17c2949a76",
   "metadata": {},
   "outputs": [],
   "source": [
    "y1 = tensor @ tensor.T"
   ]
  },
  {
   "cell_type": "code",
   "execution_count": 17,
   "id": "c1620de6-9a0f-4188-9ffb-4f1f768b257d",
   "metadata": {},
   "outputs": [
    {
     "data": {
      "text/plain": [
       "tensor([[0.9894, 0.5235, 0.8358],\n",
       "        [0.5235, 1.5336, 1.4356],\n",
       "        [0.8358, 1.4356, 1.5061]])"
      ]
     },
     "execution_count": 17,
     "metadata": {},
     "output_type": "execute_result"
    }
   ],
   "source": [
    "y1"
   ]
  },
  {
   "cell_type": "code",
   "execution_count": 19,
   "id": "9f663fe0-5ee8-49cc-b6d4-7ab6427f555a",
   "metadata": {},
   "outputs": [],
   "source": [
    "y2 = tensor.matmul(tensor.T)"
   ]
  },
  {
   "cell_type": "code",
   "execution_count": 20,
   "id": "62bca281-4904-4ccb-9596-dfed3ac80650",
   "metadata": {},
   "outputs": [
    {
     "data": {
      "text/plain": [
       "tensor([[0.9894, 0.5235, 0.8358],\n",
       "        [0.5235, 1.5336, 1.4356],\n",
       "        [0.8358, 1.4356, 1.5061]])"
      ]
     },
     "execution_count": 20,
     "metadata": {},
     "output_type": "execute_result"
    }
   ],
   "source": [
    "y2"
   ]
  },
  {
   "cell_type": "code",
   "execution_count": 21,
   "id": "49dde6ed-4451-4ed1-8f73-491f27bbdc1d",
   "metadata": {},
   "outputs": [],
   "source": [
    "agg = tensor.sum()"
   ]
  },
  {
   "cell_type": "code",
   "execution_count": 22,
   "id": "142864dd-9693-4f6e-abc9-3808a8607866",
   "metadata": {},
   "outputs": [
    {
     "data": {
      "text/plain": [
       "tensor(6.0700)"
      ]
     },
     "execution_count": 22,
     "metadata": {},
     "output_type": "execute_result"
    }
   ],
   "source": [
    "agg"
   ]
  },
  {
   "cell_type": "code",
   "execution_count": 23,
   "id": "443aac24-fc30-488b-a09a-1caa1ddf08b8",
   "metadata": {},
   "outputs": [],
   "source": [
    "agg_item = agg.item()"
   ]
  },
  {
   "cell_type": "code",
   "execution_count": 24,
   "id": "f99e04a6-4035-463a-a4a7-cfec9e1e287b",
   "metadata": {},
   "outputs": [
    {
     "data": {
      "text/plain": [
       "6.0699591636657715"
      ]
     },
     "execution_count": 24,
     "metadata": {},
     "output_type": "execute_result"
    }
   ],
   "source": [
    "agg_item"
   ]
  },
  {
   "cell_type": "code",
   "execution_count": null,
   "id": "dff8054e-2856-4262-ad94-4cc05450c0b1",
   "metadata": {},
   "outputs": [],
   "source": []
  }
 ],
 "metadata": {
  "kernelspec": {
   "display_name": "Pytorch Basic",
   "language": "python",
   "name": "pytorch_basic_venv"
  },
  "language_info": {
   "codemirror_mode": {
    "name": "ipython",
    "version": 3
   },
   "file_extension": ".py",
   "mimetype": "text/x-python",
   "name": "python",
   "nbconvert_exporter": "python",
   "pygments_lexer": "ipython3",
   "version": "3.11.9"
  }
 },
 "nbformat": 4,
 "nbformat_minor": 5
}
