{
 "cells": [
  {
   "cell_type": "code",
   "execution_count": 2,
   "id": "729d1e94-a174-40ce-be34-2c03d52f06ee",
   "metadata": {},
   "outputs": [
    {
     "name": "stderr",
     "output_type": "stream",
     "text": [
      "テスト\n"
     ]
    }
   ],
   "source": [
    "from logger import Logger\n",
    "logger = Logger()\n",
    "logger.info(\"テスト\")"
   ]
  },
  {
   "cell_type": "code",
   "execution_count": 3,
   "id": "1d114ae5-4a51-4e7d-92f3-6cd0f41eaf3c",
   "metadata": {},
   "outputs": [],
   "source": [
    "import torch\n",
    "from torch import nn\n",
    "from torch.utils.data import DataLoader\n",
    "from torchvision import datasets\n",
    "from torchvision.transforms import ToTensor"
   ]
  },
  {
   "cell_type": "code",
   "execution_count": 4,
   "id": "b665b2cf-4eaf-4074-9399-3874adbc35c1",
   "metadata": {},
   "outputs": [],
   "source": [
    "# 訓練データ読み込みorダウンロード\n",
    "training_data = datasets.FashionMNIST(\n",
    "    root=\"data\",\n",
    "    train=True,\n",
    "    download=True,\n",
    "    transform=ToTensor(),\n",
    ")"
   ]
  },
  {
   "cell_type": "code",
   "execution_count": 5,
   "id": "0b1345ac-22c1-40f4-9913-1e5acbbf5b00",
   "metadata": {},
   "outputs": [],
   "source": [
    "# テストデータ読み込みorダウンロード\n",
    "test_data = datasets.FashionMNIST(\n",
    "    root=\"data\",\n",
    "    train=False,\n",
    "    download=True,\n",
    "    transform=ToTensor(),\n",
    ")"
   ]
  },
  {
   "cell_type": "code",
   "execution_count": 6,
   "id": "36ef31cd-17c6-47a4-bff2-45fc8cf3592d",
   "metadata": {},
   "outputs": [
    {
     "name": "stderr",
     "output_type": "stream",
     "text": [
      "Shape of X [N, C, H, W]: torch.Size([64, 1, 28, 28])\n",
      "Shape of y: torch.Size([64]) torch.int64\n"
     ]
    }
   ],
   "source": [
    "# データセットからデータloaderを作る\n",
    "batch_size = 64\n",
    "\n",
    "train_dataloader = DataLoader(training_data, batch_size=batch_size)\n",
    "test_dataloader = DataLoader(test_data, batch_size=batch_size)\n",
    "\n",
    "for X, y in test_dataloader:\n",
    "    logger.info(f\"Shape of X [N, C, H, W]: {X.shape}\")\n",
    "    logger.info(f\"Shape of y: {y.shape} {y.dtype}\")\n",
    "    break"
   ]
  },
  {
   "cell_type": "code",
   "execution_count": 13,
   "id": "b695d4b4-2190-424a-ba64-5f8961569a3a",
   "metadata": {},
   "outputs": [
    {
     "name": "stderr",
     "output_type": "stream",
     "text": [
      "Using mps device\n",
      "NeuralNetwork(\n",
      "  (flatten): Flatten(start_dim=1, end_dim=-1)\n",
      "  (linear_relu_stack): Sequential(\n",
      "    (0): Linear(in_features=784, out_features=512, bias=True)\n",
      "    (1): ReLU()\n",
      "    (2): Linear(in_features=512, out_features=512, bias=True)\n",
      "    (3): ReLU()\n",
      "    (4): Linear(in_features=512, out_features=10, bias=True)\n",
      "  )\n",
      ")\n"
     ]
    }
   ],
   "source": [
    "# モデル作成\n",
    "device = (\"cuda\" if torch.cuda.is_available()\n",
    "          else \"mps\" if torch.backends.mps.is_available()\n",
    "         else \"cpu\")\n",
    "logger.info(f\"Using {device} device\")\n",
    "\n",
    "class NeuralNetwork(nn.Module):\n",
    "    def __init__(self):\n",
    "        super().__init__()\n",
    "        self.flatten = nn.Flatten()\n",
    "        self.linear_relu_stack = nn.Sequential(\n",
    "            nn.Linear(28*28, 512),\n",
    "            nn.ReLU(),\n",
    "            nn.Linear(512, 512),\n",
    "            nn.ReLU(),\n",
    "            nn.Linear(512, 10),\n",
    "        )\n",
    "\n",
    "    def forward(self, x):\n",
    "        x = self.flatten(x)\n",
    "        logits = self.linear_relu_stack(x)\n",
    "        return logits\n",
    "\n",
    "model = NeuralNetwork().to(device)\n",
    "logger.info(model)"
   ]
  },
  {
   "cell_type": "code",
   "execution_count": 14,
   "id": "c0e2b5da-394f-430e-8347-ecd7d2515c2c",
   "metadata": {},
   "outputs": [],
   "source": [
    "# 損失関数\n",
    "loss_fn = nn.CrossEntropyLoss()\n",
    "optimizer = torch.optim.SGD(model.parameters(), lr=1e-3)"
   ]
  },
  {
   "cell_type": "code",
   "execution_count": 18,
   "id": "4f42590b-e520-40d9-ad9d-25164339665b",
   "metadata": {},
   "outputs": [],
   "source": [
    "def train(dataloader, model, loss_fn, optimizer):\n",
    "    size = len(dataloader.dataset)\n",
    "    model.train()\n",
    "    for batch, (X, y) in enumerate(dataloader):\n",
    "        X, y = X.to(device), y.to(device)\n",
    "\n",
    "        pred = model(X)\n",
    "        loss = loss_fn(pred, y)\n",
    "\n",
    "        # バックプロパゲーション\n",
    "        loss.backward()\n",
    "        optimizer.step()\n",
    "        optimizer.zero_grad()\n",
    "\n",
    "        if batch % 100 == 0:\n",
    "            loss, current = loss.item(), (batch + 1)*len(X)\n",
    "            logger.info(f\"loss: {loss:>7f}  [{current:>5d}/{size:>5d}]\")"
   ]
  },
  {
   "cell_type": "code",
   "execution_count": 19,
   "id": "321c930c-3e60-4802-9f0d-277b57f2d9c1",
   "metadata": {},
   "outputs": [],
   "source": [
    "def test(dataloader, model, loss_fn):\n",
    "    size = len(dataloader.dataset)\n",
    "    num_batches = len(dataloader)\n",
    "    model.eval()\n",
    "    test_loss, correct = 0, 0\n",
    "    with torch.no_grad():\n",
    "        for X, y in dataloader:\n",
    "            X, y = X.to(device), y.to(device)\n",
    "            pred = model(X)\n",
    "            test_loss += loss_fn(pred, y).item()\n",
    "            correct += (pred.argmax(1) == y).type(torch.float).sum().item()\n",
    "    test_loss /= num_batches\n",
    "    correct /= size\n",
    "    print(f\"Test Error: \\n Accuracy: {(100*correct):>0.1f}%, Avg loss: {test_loss:>8f} \\n\")"
   ]
  },
  {
   "cell_type": "code",
   "execution_count": 21,
   "id": "54785edd-7458-4abc-9efc-2f7be5ecf23b",
   "metadata": {},
   "outputs": [
    {
     "name": "stderr",
     "output_type": "stream",
     "text": [
      "loss: 1.151383  [   64/60000]\n"
     ]
    },
    {
     "name": "stdout",
     "output_type": "stream",
     "text": [
      "Epoch 1\n",
      "-------------------------------\n"
     ]
    },
    {
     "name": "stderr",
     "output_type": "stream",
     "text": [
      "loss: 1.154828  [ 6464/60000]\n",
      "loss: 0.976347  [12864/60000]\n",
      "loss: 1.098382  [19264/60000]\n",
      "loss: 0.979322  [25664/60000]\n",
      "loss: 1.013232  [32064/60000]\n",
      "loss: 1.047127  [38464/60000]\n",
      "loss: 0.985315  [44864/60000]\n",
      "loss: 1.024441  [51264/60000]\n",
      "loss: 0.965714  [57664/60000]\n",
      "loss: 1.034329  [   64/60000]\n"
     ]
    },
    {
     "name": "stdout",
     "output_type": "stream",
     "text": [
      "Test Error: \n",
      " Accuracy: 65.8%, Avg loss: 0.978877 \n",
      "\n",
      "Epoch 2\n",
      "-------------------------------\n"
     ]
    },
    {
     "name": "stderr",
     "output_type": "stream",
     "text": [
      "loss: 1.059759  [ 6464/60000]\n",
      "loss: 0.864877  [12864/60000]\n",
      "loss: 1.009457  [19264/60000]\n",
      "loss: 0.894681  [25664/60000]\n",
      "loss: 0.921324  [32064/60000]\n",
      "loss: 0.972820  [38464/60000]\n",
      "loss: 0.913253  [44864/60000]\n",
      "loss: 0.946820  [51264/60000]\n",
      "loss: 0.901638  [57664/60000]\n",
      "loss: 0.948569  [   64/60000]\n"
     ]
    },
    {
     "name": "stdout",
     "output_type": "stream",
     "text": [
      "Test Error: \n",
      " Accuracy: 67.2%, Avg loss: 0.908759 \n",
      "\n",
      "Epoch 3\n",
      "-------------------------------\n"
     ]
    },
    {
     "name": "stderr",
     "output_type": "stream",
     "text": [
      "loss: 0.993484  [ 6464/60000]\n",
      "loss: 0.784667  [12864/60000]\n",
      "loss: 0.946368  [19264/60000]\n",
      "loss: 0.838177  [25664/60000]\n",
      "loss: 0.853817  [32064/60000]\n",
      "loss: 0.920034  [38464/60000]\n",
      "loss: 0.864432  [44864/60000]\n",
      "loss: 0.890473  [51264/60000]\n",
      "loss: 0.854752  [57664/60000]\n",
      "loss: 0.881833  [   64/60000]\n"
     ]
    },
    {
     "name": "stdout",
     "output_type": "stream",
     "text": [
      "Test Error: \n",
      " Accuracy: 68.3%, Avg loss: 0.857630 \n",
      "\n",
      "Epoch 4\n",
      "-------------------------------\n"
     ]
    },
    {
     "name": "stderr",
     "output_type": "stream",
     "text": [
      "loss: 0.942754  [ 6464/60000]\n",
      "loss: 0.723901  [12864/60000]\n",
      "loss: 0.898498  [19264/60000]\n",
      "loss: 0.797434  [25664/60000]\n",
      "loss: 0.802649  [32064/60000]\n",
      "loss: 0.879730  [38464/60000]\n",
      "loss: 0.829637  [44864/60000]\n",
      "loss: 0.848005  [51264/60000]\n",
      "loss: 0.818170  [57664/60000]\n",
      "loss: 0.827953  [   64/60000]\n"
     ]
    },
    {
     "name": "stdout",
     "output_type": "stream",
     "text": [
      "Test Error: \n",
      " Accuracy: 69.8%, Avg loss: 0.818269 \n",
      "\n",
      "Epoch 5\n",
      "-------------------------------\n"
     ]
    },
    {
     "name": "stderr",
     "output_type": "stream",
     "text": [
      "loss: 0.901387  [ 6464/60000]\n",
      "loss: 0.676089  [12864/60000]\n",
      "loss: 0.860574  [19264/60000]\n",
      "loss: 0.765897  [25664/60000]\n",
      "loss: 0.762936  [32064/60000]\n",
      "loss: 0.847092  [38464/60000]\n",
      "loss: 0.803853  [44864/60000]\n",
      "loss: 0.814970  [51264/60000]\n",
      "loss: 0.788345  [57664/60000]\n",
      "loss: 0.783582  [   64/60000]\n"
     ]
    },
    {
     "name": "stdout",
     "output_type": "stream",
     "text": [
      "Test Error: \n",
      " Accuracy: 71.3%, Avg loss: 0.786692 \n",
      "\n",
      "Epoch 6\n",
      "-------------------------------\n"
     ]
    },
    {
     "name": "stderr",
     "output_type": "stream",
     "text": [
      "loss: 0.865974  [ 6464/60000]\n",
      "loss: 0.637445  [12864/60000]\n",
      "loss: 0.830039  [19264/60000]\n",
      "loss: 0.740214  [25664/60000]\n",
      "loss: 0.731619  [32064/60000]\n",
      "loss: 0.819338  [38464/60000]\n",
      "loss: 0.783385  [44864/60000]\n",
      "loss: 0.788414  [51264/60000]\n",
      "loss: 0.763188  [57664/60000]\n",
      "loss: 0.745820  [   64/60000]\n"
     ]
    },
    {
     "name": "stdout",
     "output_type": "stream",
     "text": [
      "Test Error: \n",
      " Accuracy: 72.6%, Avg loss: 0.760337 \n",
      "\n",
      "Epoch 7\n",
      "-------------------------------\n"
     ]
    },
    {
     "name": "stderr",
     "output_type": "stream",
     "text": [
      "loss: 0.834467  [ 6464/60000]\n",
      "loss: 0.605302  [12864/60000]\n",
      "loss: 0.804676  [19264/60000]\n",
      "loss: 0.718371  [25664/60000]\n",
      "loss: 0.706287  [32064/60000]\n",
      "loss: 0.794776  [38464/60000]\n",
      "loss: 0.766464  [44864/60000]\n",
      "loss: 0.766337  [51264/60000]\n",
      "loss: 0.741446  [57664/60000]\n",
      "loss: 0.713100  [   64/60000]\n"
     ]
    },
    {
     "name": "stdout",
     "output_type": "stream",
     "text": [
      "Test Error: \n",
      " Accuracy: 73.7%, Avg loss: 0.737589 \n",
      "\n",
      "Epoch 8\n",
      "-------------------------------\n"
     ]
    },
    {
     "name": "stderr",
     "output_type": "stream",
     "text": [
      "loss: 0.806075  [ 6464/60000]\n",
      "loss: 0.577854  [12864/60000]\n",
      "loss: 0.783237  [19264/60000]\n",
      "loss: 0.699473  [25664/60000]\n",
      "loss: 0.685365  [32064/60000]\n",
      "loss: 0.772494  [38464/60000]\n",
      "loss: 0.751752  [44864/60000]\n",
      "loss: 0.747578  [51264/60000]\n",
      "loss: 0.722278  [57664/60000]\n",
      "loss: 0.684399  [   64/60000]\n"
     ]
    },
    {
     "name": "stdout",
     "output_type": "stream",
     "text": [
      "Test Error: \n",
      " Accuracy: 74.5%, Avg loss: 0.717482 \n",
      "\n",
      "Epoch 9\n",
      "-------------------------------\n"
     ]
    },
    {
     "name": "stderr",
     "output_type": "stream",
     "text": [
      "loss: 0.780239  [ 6464/60000]\n",
      "loss: 0.553975  [12864/60000]\n",
      "loss: 0.764876  [19264/60000]\n",
      "loss: 0.682637  [25664/60000]\n",
      "loss: 0.667689  [32064/60000]\n",
      "loss: 0.751879  [38464/60000]\n",
      "loss: 0.738568  [44864/60000]\n",
      "loss: 0.731328  [51264/60000]\n",
      "loss: 0.704975  [57664/60000]\n",
      "loss: 0.658944  [   64/60000]\n"
     ]
    },
    {
     "name": "stdout",
     "output_type": "stream",
     "text": [
      "Test Error: \n",
      " Accuracy: 75.3%, Avg loss: 0.699379 \n",
      "\n",
      "Epoch 10\n",
      "-------------------------------\n"
     ]
    },
    {
     "name": "stderr",
     "output_type": "stream",
     "text": [
      "loss: 0.756508  [ 6464/60000]\n",
      "loss: 0.532891  [12864/60000]\n",
      "loss: 0.748734  [19264/60000]\n",
      "loss: 0.667557  [25664/60000]\n",
      "loss: 0.652507  [32064/60000]\n",
      "loss: 0.732618  [38464/60000]\n",
      "loss: 0.726607  [44864/60000]\n",
      "loss: 0.717156  [51264/60000]\n",
      "loss: 0.689090  [57664/60000]\n"
     ]
    },
    {
     "name": "stdout",
     "output_type": "stream",
     "text": [
      "Test Error: \n",
      " Accuracy: 76.2%, Avg loss: 0.682925 \n",
      "\n",
      "Done!\n"
     ]
    }
   ],
   "source": [
    "epochs = 10\n",
    "for t in range(epochs):\n",
    "    print(f\"Epoch {t+1}\\n-------------------------------\")\n",
    "    train(train_dataloader, model, loss_fn, optimizer)\n",
    "    test(test_dataloader, model, loss_fn)\n",
    "print(\"Done!\")"
   ]
  },
  {
   "cell_type": "code",
   "execution_count": 24,
   "id": "687647f6-86b2-403c-bb7a-975dcbb3ca70",
   "metadata": {},
   "outputs": [],
   "source": [
    "# 保存\n",
    "torch.save(model.state_dict(), \"model/model_1.pth\")"
   ]
  },
  {
   "cell_type": "code",
   "execution_count": 27,
   "id": "d72de68f-a29e-4fda-a8b7-087c88c7a6bf",
   "metadata": {},
   "outputs": [
    {
     "data": {
      "text/plain": [
       "<All keys matched successfully>"
      ]
     },
     "execution_count": 27,
     "metadata": {},
     "output_type": "execute_result"
    }
   ],
   "source": [
    "# ロード\n",
    "model = NeuralNetwork().to(device)\n",
    "model.load_state_dict(torch.load(\"model/model_1.pth\", weights_only=True))"
   ]
  },
  {
   "cell_type": "code",
   "execution_count": 28,
   "id": "e99dfe4a-bbaf-4abf-bd06-68e8e9c7862e",
   "metadata": {},
   "outputs": [],
   "source": [
    "classes = [\n",
    "    \"T-shirt/top\",\n",
    "    \"Trouser\",\n",
    "    \"Pullover\",\n",
    "    \"Dress\",\n",
    "    \"Coat\",\n",
    "    \"Sandal\",\n",
    "    \"Shirt\",\n",
    "    \"Sneaker\",\n",
    "    \"Bag\",\n",
    "    \"Ankle boot\",\n",
    "]"
   ]
  },
  {
   "cell_type": "code",
   "execution_count": 29,
   "id": "e0a70f84-c5dd-4dbc-8889-58fef05653a7",
   "metadata": {},
   "outputs": [
    {
     "name": "stdout",
     "output_type": "stream",
     "text": [
      "Predicted: \"Ankle boot\", Actual: \"Ankle boot\"\n"
     ]
    }
   ],
   "source": [
    "model.eval()\n",
    "x, y = test_data[0][0], test_data[0][1]\n",
    "with torch.no_grad():\n",
    "    x = x.to(device)\n",
    "    pred = model(x)\n",
    "    predicted, actual = classes[pred[0].argmax(0)], classes[y]\n",
    "    print(f'Predicted: \"{predicted}\", Actual: \"{actual}\"')"
   ]
  },
  {
   "cell_type": "code",
   "execution_count": null,
   "id": "2a1a6771-755d-4af9-9df3-a4f4a4733604",
   "metadata": {},
   "outputs": [],
   "source": []
  }
 ],
 "metadata": {
  "kernelspec": {
   "display_name": "Pytorch Basic",
   "language": "python",
   "name": "pytorch_basic_venv"
  },
  "language_info": {
   "codemirror_mode": {
    "name": "ipython",
    "version": 3
   },
   "file_extension": ".py",
   "mimetype": "text/x-python",
   "name": "python",
   "nbconvert_exporter": "python",
   "pygments_lexer": "ipython3",
   "version": "3.11.9"
  }
 },
 "nbformat": 4,
 "nbformat_minor": 5
}
