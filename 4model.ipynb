{
 "cells": [
  {
   "cell_type": "code",
   "execution_count": 1,
   "id": "56cd3bf5-f7fc-481f-8ca3-96de45564da4",
   "metadata": {},
   "outputs": [
    {
     "name": "stderr",
     "output_type": "stream",
     "text": [
      "テスト\n"
     ]
    }
   ],
   "source": [
    "from logger import Logger\n",
    "logger = Logger()\n",
    "logger.info(\"テスト\")"
   ]
  },
  {
   "cell_type": "code",
   "execution_count": 2,
   "id": "29b5aec8-414a-4bf9-ad5f-e1c2f93c668b",
   "metadata": {},
   "outputs": [],
   "source": [
    "import os\n",
    "import torch\n",
    "from torch import nn\n",
    "from torch.utils.data import DataLoader\n",
    "from torchvision import datasets, transforms"
   ]
  },
  {
   "cell_type": "code",
   "execution_count": 5,
   "id": "f8511d74-dc92-4e21-b9a2-17d98544bc2d",
   "metadata": {},
   "outputs": [
    {
     "name": "stderr",
     "output_type": "stream",
     "text": [
      "Using mps device\n"
     ]
    }
   ],
   "source": [
    "device = (\"cuda\" if torch.cuda.is_available()\n",
    "          else \"mps\" if torch.backends.mps.is_available()\n",
    "         else \"cpu\")\n",
    "logger.info(f\"Using {device} device\")"
   ]
  },
  {
   "cell_type": "code",
   "execution_count": 6,
   "id": "dd2a7d3d-387e-47d4-be4a-0dd890b1477f",
   "metadata": {},
   "outputs": [],
   "source": [
    "class NeuralNetwork(nn.Module):\n",
    "    def __init__(self):\n",
    "        super().__init__()\n",
    "        self.flatten = nn.Flatten()\n",
    "        self.linear_relu_stack = nn.Sequential(\n",
    "            nn.Linear(28*28, 512),\n",
    "            nn.ReLU(),\n",
    "            nn.Linear(512, 512),\n",
    "            nn.ReLU(),\n",
    "            nn.Linear(512, 10),\n",
    "        )\n",
    "\n",
    "    def forward(self, x):\n",
    "        x = self.flatten(x)\n",
    "        logits = self.linear_relu_stack(x)\n",
    "        return logits"
   ]
  },
  {
   "cell_type": "code",
   "execution_count": 7,
   "id": "5c0e2e72-88ce-4720-b532-01116b3fa169",
   "metadata": {},
   "outputs": [
    {
     "data": {
      "text/plain": [
       "NeuralNetwork(\n",
       "  (flatten): Flatten(start_dim=1, end_dim=-1)\n",
       "  (linear_relu_stack): Sequential(\n",
       "    (0): Linear(in_features=784, out_features=512, bias=True)\n",
       "    (1): ReLU()\n",
       "    (2): Linear(in_features=512, out_features=512, bias=True)\n",
       "    (3): ReLU()\n",
       "    (4): Linear(in_features=512, out_features=10, bias=True)\n",
       "  )\n",
       ")"
      ]
     },
     "execution_count": 7,
     "metadata": {},
     "output_type": "execute_result"
    }
   ],
   "source": [
    "model = NeuralNetwork().to(device)\n",
    "model"
   ]
  },
  {
   "cell_type": "code",
   "execution_count": 11,
   "id": "1867ee04-550f-48cf-b9d8-59816d842e17",
   "metadata": {},
   "outputs": [],
   "source": [
    "X = torch.rand(1, 28, 28, device=device)\n",
    "logits = model(X)\n",
    "pred_probab = nn.Softmax(dim=1)(logits)\n",
    "y_pred = pred_probab.argmax(1)"
   ]
  },
  {
   "cell_type": "code",
   "execution_count": 12,
   "id": "35dabd17-461b-4112-8837-9b86692d4071",
   "metadata": {},
   "outputs": [
    {
     "data": {
      "text/plain": [
       "tensor([9], device='mps:0')"
      ]
     },
     "execution_count": 12,
     "metadata": {},
     "output_type": "execute_result"
    }
   ],
   "source": [
    "y_pred"
   ]
  },
  {
   "cell_type": "code",
   "execution_count": 13,
   "id": "9c3e6cc4-8762-4c91-a716-a8e7a6ab180d",
   "metadata": {},
   "outputs": [
    {
     "data": {
      "text/plain": [
       "torch.Size([3, 28, 28])"
      ]
     },
     "execution_count": 13,
     "metadata": {},
     "output_type": "execute_result"
    }
   ],
   "source": [
    "input_image = torch.rand(3, 28, 28)\n",
    "input_image.size()"
   ]
  },
  {
   "cell_type": "code",
   "execution_count": 14,
   "id": "a3b8b907-77a1-4057-b9c6-3f8eb706ae1c",
   "metadata": {},
   "outputs": [
    {
     "data": {
      "text/plain": [
       "torch.Size([3, 784])"
      ]
     },
     "execution_count": 14,
     "metadata": {},
     "output_type": "execute_result"
    }
   ],
   "source": [
    "flatten = nn.Flatten()\n",
    "flat_image = flatten(input_image)\n",
    "flat_image.size()"
   ]
  },
  {
   "cell_type": "code",
   "execution_count": 15,
   "id": "2b4aa5d1-923f-48bd-a8dc-d28ea80c76cc",
   "metadata": {},
   "outputs": [
    {
     "data": {
      "text/plain": [
       "torch.nn.modules.flatten.Flatten"
      ]
     },
     "execution_count": 15,
     "metadata": {},
     "output_type": "execute_result"
    }
   ],
   "source": [
    "type(flatten)"
   ]
  },
  {
   "cell_type": "code",
   "execution_count": 16,
   "id": "d8f2244d-ca85-400f-ae9f-9c288cfb46af",
   "metadata": {},
   "outputs": [
    {
     "data": {
      "text/plain": [
       "torch.Size([3, 20])"
      ]
     },
     "execution_count": 16,
     "metadata": {},
     "output_type": "execute_result"
    }
   ],
   "source": [
    "layer1 = nn.Linear(in_features=28*28, out_features=20)\n",
    "hidden1 = layer1(flat_image)\n",
    "hidden1.size()"
   ]
  },
  {
   "cell_type": "code",
   "execution_count": 17,
   "id": "0a3e41ac-3b3a-42df-8c0d-8b48af2780f8",
   "metadata": {},
   "outputs": [
    {
     "data": {
      "text/plain": [
       "tensor([[ 0.6405,  0.1614, -0.4434,  0.5445,  0.1476,  0.1577, -0.0958, -0.2241,\n",
       "          0.5607,  0.2799, -0.2294,  0.2297,  0.1822,  0.1473,  0.0187,  0.1210,\n",
       "          0.5212, -0.4547, -0.1337, -0.3730],\n",
       "        [ 0.6550, -0.0275, -0.0849,  0.2656,  0.0714,  0.6719, -0.2748, -0.2002,\n",
       "          0.1538,  0.2556, -0.2833,  0.3154, -0.1174, -0.2762,  0.2165, -0.0455,\n",
       "          0.5389, -0.0032, -0.0888, -0.0425],\n",
       "        [ 0.4504, -0.1871, -0.5958,  0.3419,  0.3230,  0.2191, -0.0319, -0.1561,\n",
       "          0.3751, -0.0271, -0.2851,  0.2385,  0.0471, -0.1713,  0.0120,  0.0883,\n",
       "          0.1291, -0.2181, -0.0183, -0.6466]], grad_fn=<AddmmBackward0>)"
      ]
     },
     "execution_count": 17,
     "metadata": {},
     "output_type": "execute_result"
    }
   ],
   "source": [
    "hidden1"
   ]
  },
  {
   "cell_type": "code",
   "execution_count": 18,
   "id": "1f582eb9-4ba8-4117-9c8d-13d0aee9b682",
   "metadata": {},
   "outputs": [],
   "source": [
    "hidden1 = nn.ReLU()(hidden1)"
   ]
  },
  {
   "cell_type": "code",
   "execution_count": 19,
   "id": "3bf96cda-7e58-4fbf-b2c4-1ce689ca2056",
   "metadata": {},
   "outputs": [
    {
     "data": {
      "text/plain": [
       "tensor([[0.6405, 0.1614, 0.0000, 0.5445, 0.1476, 0.1577, 0.0000, 0.0000, 0.5607,\n",
       "         0.2799, 0.0000, 0.2297, 0.1822, 0.1473, 0.0187, 0.1210, 0.5212, 0.0000,\n",
       "         0.0000, 0.0000],\n",
       "        [0.6550, 0.0000, 0.0000, 0.2656, 0.0714, 0.6719, 0.0000, 0.0000, 0.1538,\n",
       "         0.2556, 0.0000, 0.3154, 0.0000, 0.0000, 0.2165, 0.0000, 0.5389, 0.0000,\n",
       "         0.0000, 0.0000],\n",
       "        [0.4504, 0.0000, 0.0000, 0.3419, 0.3230, 0.2191, 0.0000, 0.0000, 0.3751,\n",
       "         0.0000, 0.0000, 0.2385, 0.0471, 0.0000, 0.0120, 0.0883, 0.1291, 0.0000,\n",
       "         0.0000, 0.0000]], grad_fn=<ReluBackward0>)"
      ]
     },
     "execution_count": 19,
     "metadata": {},
     "output_type": "execute_result"
    }
   ],
   "source": [
    "hidden1"
   ]
  },
  {
   "cell_type": "code",
   "execution_count": 21,
   "id": "00439605-c154-4feb-88b9-b9672e04b95a",
   "metadata": {},
   "outputs": [],
   "source": [
    "seq_modules = nn.Sequential(\n",
    "    flatten,\n",
    "    layer1,\n",
    "    nn.ReLU(),\n",
    "    nn.Linear(20, 10),\n",
    ")\n",
    "input_image = torch.rand(3, 28, 28)\n",
    "logits = seq_modules(input_image)"
   ]
  },
  {
   "cell_type": "code",
   "execution_count": 22,
   "id": "fe66665f-f99d-411f-a7a5-000587fe4679",
   "metadata": {},
   "outputs": [
    {
     "data": {
      "text/plain": [
       "tensor([[ 0.0576, -0.0468, -0.0059,  0.3833,  0.4794, -0.1374,  0.0778,  0.1474,\n",
       "         -0.0531, -0.0179],\n",
       "        [ 0.2006, -0.2238, -0.1372,  0.3944,  0.3680,  0.0742,  0.1351,  0.1222,\n",
       "          0.0540,  0.1790],\n",
       "        [ 0.1038, -0.0327, -0.0974,  0.3167,  0.4804, -0.1580, -0.0581,  0.1070,\n",
       "         -0.1144,  0.0172]], grad_fn=<AddmmBackward0>)"
      ]
     },
     "execution_count": 22,
     "metadata": {},
     "output_type": "execute_result"
    }
   ],
   "source": [
    "logits"
   ]
  },
  {
   "cell_type": "code",
   "execution_count": 23,
   "id": "0486efb9-5ff4-4af6-a36b-bf3caade0b1d",
   "metadata": {},
   "outputs": [],
   "source": [
    "softmax = nn.Softmax(dim=1)\n",
    "pred_probab = softmax(logits)"
   ]
  },
  {
   "cell_type": "code",
   "execution_count": 24,
   "id": "d8fec62a-e9be-4c9f-9b8d-9b38b0380e8f",
   "metadata": {},
   "outputs": [
    {
     "data": {
      "text/plain": [
       "tensor([[0.0952, 0.0857, 0.0893, 0.1318, 0.1451, 0.0783, 0.0971, 0.1041, 0.0852,\n",
       "         0.0882],\n",
       "        [0.1070, 0.0700, 0.0763, 0.1298, 0.1265, 0.0943, 0.1002, 0.0989, 0.0924,\n",
       "         0.1047],\n",
       "        [0.1028, 0.0897, 0.0841, 0.1272, 0.1498, 0.0791, 0.0874, 0.1031, 0.0826,\n",
       "         0.0943]], grad_fn=<SoftmaxBackward0>)"
      ]
     },
     "execution_count": 24,
     "metadata": {},
     "output_type": "execute_result"
    }
   ],
   "source": [
    "pred_probab"
   ]
  },
  {
   "cell_type": "code",
   "execution_count": null,
   "id": "9bed23af-cea2-4988-97c3-2cb3b339b172",
   "metadata": {},
   "outputs": [],
   "source": []
  }
 ],
 "metadata": {
  "kernelspec": {
   "display_name": "Pytorch Basic",
   "language": "python",
   "name": "pytorch_basic_venv"
  },
  "language_info": {
   "codemirror_mode": {
    "name": "ipython",
    "version": 3
   },
   "file_extension": ".py",
   "mimetype": "text/x-python",
   "name": "python",
   "nbconvert_exporter": "python",
   "pygments_lexer": "ipython3",
   "version": "3.11.9"
  }
 },
 "nbformat": 4,
 "nbformat_minor": 5
}
