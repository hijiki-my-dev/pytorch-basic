{
 "cells": [
  {
   "cell_type": "code",
   "execution_count": 1,
   "id": "124db2c7-e8d2-49aa-82d8-fd8400fa3b73",
   "metadata": {},
   "outputs": [
    {
     "name": "stderr",
     "output_type": "stream",
     "text": [
      "テスト\n"
     ]
    }
   ],
   "source": [
    "from logger import Logger\n",
    "logger = Logger()\n",
    "logger.info(\"テスト\")"
   ]
  },
  {
   "cell_type": "code",
   "execution_count": 2,
   "id": "9b458c7a-e2ce-4eaa-bee4-7fdf600e39db",
   "metadata": {},
   "outputs": [],
   "source": [
    "import torch\n",
    "from torch import nn\n",
    "from torch.utils.data import DataLoader\n",
    "from torchvision import datasets, transforms\n",
    "from torchvision.transforms import ToTensor"
   ]
  },
  {
   "cell_type": "code",
   "execution_count": 3,
   "id": "003ea011-d5d0-4c22-84e7-d2e1e74e4ea2",
   "metadata": {},
   "outputs": [
    {
     "name": "stderr",
     "output_type": "stream",
     "text": [
      "Using mps device\n"
     ]
    }
   ],
   "source": [
    "device = (\"cuda\" if torch.cuda.is_available()\n",
    "          else \"mps\" if torch.backends.mps.is_available()\n",
    "         else \"cpu\")\n",
    "logger.info(f\"Using {device} device\")"
   ]
  },
  {
   "cell_type": "code",
   "execution_count": 4,
   "id": "dc159fa9-2190-482d-9cb6-16b1c09b6755",
   "metadata": {},
   "outputs": [],
   "source": [
    "training_data = datasets.FashionMNIST(\n",
    "    root=\"data\",\n",
    "    train=True,\n",
    "    download=True,\n",
    "    transform=ToTensor()\n",
    ")"
   ]
  },
  {
   "cell_type": "code",
   "execution_count": 5,
   "id": "07b36aac-4ce1-4079-8087-b5fed1049843",
   "metadata": {},
   "outputs": [],
   "source": [
    "test_data = datasets.FashionMNIST(\n",
    "    root=\"data\",\n",
    "    train=False,\n",
    "    download=True,\n",
    "    transform=ToTensor()\n",
    ")"
   ]
  },
  {
   "cell_type": "code",
   "execution_count": 6,
   "id": "77f8089c-e8d7-454b-ba92-645db876388f",
   "metadata": {},
   "outputs": [],
   "source": [
    "batch_size = 64\n",
    "\n",
    "train_dataloader = DataLoader(training_data, batch_size=batch_size)\n",
    "test_dataloader = DataLoader(test_data, batch_size=batch_size)"
   ]
  },
  {
   "cell_type": "code",
   "execution_count": 7,
   "id": "acfc008d-87c2-4990-92d9-d9725550f47e",
   "metadata": {},
   "outputs": [],
   "source": [
    "class NeuralNetwork(nn.Module):\n",
    "    def __init__(self):\n",
    "        super().__init__()\n",
    "        self.flatten = nn.Flatten()\n",
    "        self.linear_relu_stack = nn.Sequential(\n",
    "            nn.Linear(28*28, 512),\n",
    "            nn.ReLU(),\n",
    "            nn.Linear(512, 512),\n",
    "            nn.ReLU(),\n",
    "            nn.Linear(512, 10),\n",
    "        )\n",
    "\n",
    "    def forward(self, x):\n",
    "        x = self.flatten(x)\n",
    "        logits = self.linear_relu_stack(x)\n",
    "        return logits"
   ]
  },
  {
   "cell_type": "code",
   "execution_count": 8,
   "id": "124b359a-be50-46b6-9474-4ab0f1cc0f62",
   "metadata": {},
   "outputs": [],
   "source": [
    "model = NeuralNetwork()"
   ]
  },
  {
   "cell_type": "code",
   "execution_count": 19,
   "id": "dcf63217-35b7-4636-b1dc-83dce04a75d5",
   "metadata": {},
   "outputs": [],
   "source": [
    "learning_rate = 1e-3\n",
    "batch_size = 64\n",
    "epochs = 5"
   ]
  },
  {
   "cell_type": "code",
   "execution_count": 20,
   "id": "7ca806e8-0f20-45e5-ab7f-66b77ea8f855",
   "metadata": {},
   "outputs": [],
   "source": [
    "loss_fn = nn.CrossEntropyLoss()\n",
    "optimizer = torch.optim.SGD(model.parameters(), lr=learning_rate)"
   ]
  },
  {
   "cell_type": "code",
   "execution_count": 30,
   "id": "e420fbaf-3b8a-4cdb-b9d6-02bb3bb7688e",
   "metadata": {},
   "outputs": [],
   "source": [
    "def train_loop(dataloader, model, loss_fn, optimizer):\n",
    "    size = len(dataloader.dataset)\n",
    "\n",
    "    model.train()\n",
    "    for batch, (X, y) in enumerate(dataloader):\n",
    "        X, y = X.to(device), y.to(device)\n",
    "        pred = model(X)\n",
    "        loss = loss_fn(pred, y)\n",
    "\n",
    "        loss.backward()\n",
    "        optimizer.step()\n",
    "        optimizer.zero_grad()\n",
    "\n",
    "        if batch%100 == 0:\n",
    "            loss, current = loss.item(), batch*batch_size + len(X)\n",
    "            logger.info(f\"loss: {loss:>7f} [{current:>5d}/{size:>5d}]\")"
   ]
  },
  {
   "cell_type": "code",
   "execution_count": 31,
   "id": "86351568-b192-4791-af17-f068932fbb10",
   "metadata": {},
   "outputs": [],
   "source": [
    "def test_loop(dataloader, model, loss_fn):\n",
    "    model.eval()\n",
    "    size = len(dataloader.dataset)\n",
    "    num_batches = len(dataloader)\n",
    "    test_loss, correct = 0, 0\n",
    "\n",
    "    with torch.no_grad():\n",
    "        for X, y in dataloader:\n",
    "            X, y = X.to(device), y.to(device)\n",
    "            pred = model(X)\n",
    "            test_loss += loss_fn(pred, y).item()\n",
    "            correct += (pred.argmax(1) == y).type(torch.float).sum().item()\n",
    "\n",
    "    test_loss /= num_batches\n",
    "    correct /= size\n",
    "    logger.info(f\"Test Error: \\n Accuracy: {(100*correct):>0.1f}%, Avg loss: {test_loss:>8f} \\n\")"
   ]
  },
  {
   "cell_type": "code",
   "execution_count": 23,
   "id": "84fd47bc-0938-4b61-9aef-9f1fd7d9d726",
   "metadata": {},
   "outputs": [
    {
     "data": {
      "text/plain": [
       "938"
      ]
     },
     "execution_count": 23,
     "metadata": {},
     "output_type": "execute_result"
    }
   ],
   "source": [
    "len(train_dataloader)"
   ]
  },
  {
   "cell_type": "code",
   "execution_count": 24,
   "id": "5b145de0-a5d0-4b81-b11c-f1318b6cd051",
   "metadata": {},
   "outputs": [
    {
     "data": {
      "text/plain": [
       "60000"
      ]
     },
     "execution_count": 24,
     "metadata": {},
     "output_type": "execute_result"
    }
   ],
   "source": [
    "len(train_dataloader.dataset)"
   ]
  },
  {
   "cell_type": "code",
   "execution_count": 26,
   "id": "3799b3f3-b7b0-4d75-bc51-0114a21ed1ad",
   "metadata": {
    "collapsed": true,
    "jupyter": {
     "outputs_hidden": true
    }
   },
   "outputs": [
    {
     "name": "stderr",
     "output_type": "stream",
     "text": [
      "loss: 0.790894 [   64/60000]\n"
     ]
    },
    {
     "name": "stdout",
     "output_type": "stream",
     "text": [
      "Epoch 1\n",
      "-------------------------------\n"
     ]
    },
    {
     "name": "stderr",
     "output_type": "stream",
     "text": [
      "loss: 0.877226 [ 6464/60000]\n",
      "loss: 0.640411 [12864/60000]\n",
      "loss: 0.842191 [19264/60000]\n",
      "loss: 0.735839 [25664/60000]\n",
      "loss: 0.725993 [32064/60000]\n",
      "loss: 0.820958 [38464/60000]\n",
      "loss: 0.787480 [44864/60000]\n",
      "loss: 0.812493 [51264/60000]\n",
      "loss: 0.766125 [57664/60000]\n",
      "Test Error: \n",
      " Accuracy: 72.4%, Avg loss: 0.761808 \n",
      "\n",
      "loss: 0.752257 [   64/60000]\n"
     ]
    },
    {
     "name": "stdout",
     "output_type": "stream",
     "text": [
      "Epoch 2\n",
      "-------------------------------\n"
     ]
    },
    {
     "name": "stderr",
     "output_type": "stream",
     "text": [
      "loss: 0.846199 [ 6464/60000]\n",
      "loss: 0.607155 [12864/60000]\n",
      "loss: 0.817317 [19264/60000]\n",
      "loss: 0.714183 [25664/60000]\n",
      "loss: 0.700010 [32064/60000]\n",
      "loss: 0.795633 [38464/60000]\n",
      "loss: 0.769631 [44864/60000]\n",
      "loss: 0.789738 [51264/60000]\n",
      "loss: 0.744558 [57664/60000]\n",
      "Test Error: \n",
      " Accuracy: 73.5%, Avg loss: 0.738886 \n",
      "\n",
      "loss: 0.718732 [   64/60000]\n"
     ]
    },
    {
     "name": "stdout",
     "output_type": "stream",
     "text": [
      "Epoch 3\n",
      "-------------------------------\n"
     ]
    },
    {
     "name": "stderr",
     "output_type": "stream",
     "text": [
      "loss: 0.818167 [ 6464/60000]\n",
      "loss: 0.578903 [12864/60000]\n",
      "loss: 0.796315 [19264/60000]\n",
      "loss: 0.695885 [25664/60000]\n",
      "loss: 0.678941 [32064/60000]\n",
      "loss: 0.772479 [38464/60000]\n",
      "loss: 0.754301 [44864/60000]\n",
      "loss: 0.770190 [51264/60000]\n",
      "loss: 0.725358 [57664/60000]\n",
      "Test Error: \n",
      " Accuracy: 74.3%, Avg loss: 0.718642 \n",
      "\n",
      "loss: 0.689225 [   64/60000]\n"
     ]
    },
    {
     "name": "stdout",
     "output_type": "stream",
     "text": [
      "Epoch 4\n",
      "-------------------------------\n"
     ]
    },
    {
     "name": "stderr",
     "output_type": "stream",
     "text": [
      "loss: 0.792388 [ 6464/60000]\n",
      "loss: 0.554574 [12864/60000]\n",
      "loss: 0.778131 [19264/60000]\n",
      "loss: 0.680047 [25664/60000]\n",
      "loss: 0.661565 [32064/60000]\n",
      "loss: 0.751134 [38464/60000]\n",
      "loss: 0.740814 [44864/60000]\n",
      "loss: 0.753268 [51264/60000]\n",
      "loss: 0.707977 [57664/60000]\n",
      "Test Error: \n",
      " Accuracy: 75.2%, Avg loss: 0.700449 \n",
      "\n",
      "loss: 0.663082 [   64/60000]\n"
     ]
    },
    {
     "name": "stdout",
     "output_type": "stream",
     "text": [
      "Epoch 5\n",
      "-------------------------------\n"
     ]
    },
    {
     "name": "stderr",
     "output_type": "stream",
     "text": [
      "loss: 0.768688 [ 6464/60000]\n",
      "loss: 0.533282 [12864/60000]\n",
      "loss: 0.762058 [19264/60000]\n",
      "loss: 0.666090 [25664/60000]\n",
      "loss: 0.646972 [32064/60000]\n",
      "loss: 0.731327 [38464/60000]\n",
      "loss: 0.728799 [44864/60000]\n",
      "loss: 0.738431 [51264/60000]\n",
      "loss: 0.692041 [57664/60000]\n",
      "Test Error: \n",
      " Accuracy: 75.9%, Avg loss: 0.683917 \n",
      "\n",
      "loss: 0.639710 [   64/60000]\n"
     ]
    },
    {
     "name": "stdout",
     "output_type": "stream",
     "text": [
      "Epoch 6\n",
      "-------------------------------\n"
     ]
    },
    {
     "name": "stderr",
     "output_type": "stream",
     "text": [
      "loss: 0.746844 [ 6464/60000]\n",
      "loss: 0.514473 [12864/60000]\n",
      "loss: 0.747598 [19264/60000]\n",
      "loss: 0.653751 [25664/60000]\n",
      "loss: 0.634559 [32064/60000]\n",
      "loss: 0.712855 [38464/60000]\n",
      "loss: 0.718109 [44864/60000]\n",
      "loss: 0.725357 [51264/60000]\n",
      "loss: 0.677395 [57664/60000]\n",
      "Test Error: \n",
      " Accuracy: 76.6%, Avg loss: 0.668791 \n",
      "\n",
      "loss: 0.618813 [   64/60000]\n"
     ]
    },
    {
     "name": "stdout",
     "output_type": "stream",
     "text": [
      "Epoch 7\n",
      "-------------------------------\n"
     ]
    },
    {
     "name": "stderr",
     "output_type": "stream",
     "text": [
      "loss: 0.726675 [ 6464/60000]\n",
      "loss: 0.497688 [12864/60000]\n",
      "loss: 0.734478 [19264/60000]\n",
      "loss: 0.642849 [25664/60000]\n",
      "loss: 0.623930 [32064/60000]\n",
      "loss: 0.695631 [38464/60000]\n",
      "loss: 0.708683 [44864/60000]\n",
      "loss: 0.713818 [51264/60000]\n",
      "loss: 0.663817 [57664/60000]\n",
      "Test Error: \n",
      " Accuracy: 77.3%, Avg loss: 0.654911 \n",
      "\n",
      "loss: 0.600110 [   64/60000]\n"
     ]
    },
    {
     "name": "stdout",
     "output_type": "stream",
     "text": [
      "Epoch 8\n",
      "-------------------------------\n"
     ]
    },
    {
     "name": "stderr",
     "output_type": "stream",
     "text": [
      "loss: 0.708065 [ 6464/60000]\n",
      "loss: 0.482643 [12864/60000]\n",
      "loss: 0.722387 [19264/60000]\n",
      "loss: 0.633123 [25664/60000]\n",
      "loss: 0.614678 [32064/60000]\n",
      "loss: 0.679656 [38464/60000]\n",
      "loss: 0.700463 [44864/60000]\n",
      "loss: 0.703736 [51264/60000]\n",
      "loss: 0.651039 [57664/60000]\n",
      "Test Error: \n",
      " Accuracy: 77.6%, Avg loss: 0.642163 \n",
      "\n",
      "loss: 0.583336 [   64/60000]\n"
     ]
    },
    {
     "name": "stdout",
     "output_type": "stream",
     "text": [
      "Epoch 9\n",
      "-------------------------------\n"
     ]
    },
    {
     "name": "stderr",
     "output_type": "stream",
     "text": [
      "loss: 0.690992 [ 6464/60000]\n",
      "loss: 0.469100 [12864/60000]\n",
      "loss: 0.711222 [19264/60000]\n",
      "loss: 0.624421 [25664/60000]\n",
      "loss: 0.606633 [32064/60000]\n",
      "loss: 0.664848 [38464/60000]\n",
      "loss: 0.693433 [44864/60000]\n",
      "loss: 0.695008 [51264/60000]\n",
      "loss: 0.639118 [57664/60000]\n",
      "Test Error: \n",
      " Accuracy: 78.1%, Avg loss: 0.630448 \n",
      "\n",
      "loss: 0.568146 [   64/60000]\n"
     ]
    },
    {
     "name": "stdout",
     "output_type": "stream",
     "text": [
      "Epoch 10\n",
      "-------------------------------\n"
     ]
    },
    {
     "name": "stderr",
     "output_type": "stream",
     "text": [
      "loss: 0.675287 [ 6464/60000]\n",
      "loss: 0.456822 [12864/60000]\n",
      "loss: 0.700873 [19264/60000]\n",
      "loss: 0.616523 [25664/60000]\n",
      "loss: 0.599540 [32064/60000]\n",
      "loss: 0.651098 [38464/60000]\n",
      "loss: 0.687541 [44864/60000]\n",
      "loss: 0.687445 [51264/60000]\n",
      "loss: 0.627878 [57664/60000]\n",
      "Test Error: \n",
      " Accuracy: 78.5%, Avg loss: 0.619680 \n",
      "\n"
     ]
    },
    {
     "name": "stdout",
     "output_type": "stream",
     "text": [
      "Done!\n",
      "CPU times: user 1min 31s, sys: 6.68 s, total: 1min 38s\n",
      "Wall time: 25.8 s\n"
     ]
    }
   ],
   "source": [
    "%%time\n",
    "# CPU使用\n",
    "epochs = 10\n",
    "for t in range(epochs):\n",
    "    print(f\"Epoch {t+1}\\n-------------------------------\")\n",
    "    train_loop(train_dataloader, model, loss_fn, optimizer)\n",
    "    test_loop(test_dataloader, model, loss_fn)\n",
    "print(\"Done!\")"
   ]
  },
  {
   "cell_type": "code",
   "execution_count": null,
   "id": "69562ab0-962a-478f-bee3-7d6dd9e09209",
   "metadata": {},
   "outputs": [],
   "source": []
  },
  {
   "cell_type": "code",
   "execution_count": 33,
   "id": "3efc14b5-cb57-425f-a0d4-b8913c724966",
   "metadata": {},
   "outputs": [],
   "source": [
    "model = NeuralNetwork().to(device)"
   ]
  },
  {
   "cell_type": "code",
   "execution_count": 34,
   "id": "b44d58c9-66a1-4aa8-9440-9a9a835de049",
   "metadata": {},
   "outputs": [],
   "source": [
    "learning_rate = 1e-3\n",
    "batch_size = 64\n",
    "epochs = 5"
   ]
  },
  {
   "cell_type": "code",
   "execution_count": 35,
   "id": "2197c71d-e4f6-4e63-a0d9-c2051cdfbb99",
   "metadata": {},
   "outputs": [],
   "source": [
    "loss_fn = nn.CrossEntropyLoss()\n",
    "optimizer = torch.optim.SGD(model.parameters(), lr=learning_rate)"
   ]
  },
  {
   "cell_type": "code",
   "execution_count": 36,
   "id": "53cc544a-b9cf-4c3c-a7cf-fa837975d655",
   "metadata": {},
   "outputs": [
    {
     "name": "stderr",
     "output_type": "stream",
     "text": [
      "loss: 2.300111 [   64/60000]\n"
     ]
    },
    {
     "name": "stdout",
     "output_type": "stream",
     "text": [
      "Epoch 1\n",
      "-------------------------------\n"
     ]
    },
    {
     "name": "stderr",
     "output_type": "stream",
     "text": [
      "loss: 2.289084 [ 6464/60000]\n",
      "loss: 2.268006 [12864/60000]\n",
      "loss: 2.255447 [19264/60000]\n",
      "loss: 2.238539 [25664/60000]\n",
      "loss: 2.204539 [32064/60000]\n",
      "loss: 2.221730 [38464/60000]\n",
      "loss: 2.182754 [44864/60000]\n",
      "loss: 2.175158 [51264/60000]\n",
      "loss: 2.145915 [57664/60000]\n",
      "Test Error: \n",
      " Accuracy: 45.3%, Avg loss: 2.138950 \n",
      "\n",
      "loss: 2.151685 [   64/60000]\n"
     ]
    },
    {
     "name": "stdout",
     "output_type": "stream",
     "text": [
      "Epoch 2\n",
      "-------------------------------\n"
     ]
    },
    {
     "name": "stderr",
     "output_type": "stream",
     "text": [
      "loss: 2.146328 [ 6464/60000]\n",
      "loss: 2.087251 [12864/60000]\n",
      "loss: 2.097001 [19264/60000]\n",
      "loss: 2.039102 [25664/60000]\n",
      "loss: 1.981200 [32064/60000]\n",
      "loss: 2.012524 [38464/60000]\n",
      "loss: 1.933543 [44864/60000]\n",
      "loss: 1.933668 [51264/60000]\n",
      "loss: 1.858321 [57664/60000]\n",
      "Test Error: \n",
      " Accuracy: 59.6%, Avg loss: 1.860419 \n",
      "\n",
      "loss: 1.895909 [   64/60000]\n"
     ]
    },
    {
     "name": "stdout",
     "output_type": "stream",
     "text": [
      "Epoch 3\n",
      "-------------------------------\n"
     ]
    },
    {
     "name": "stderr",
     "output_type": "stream",
     "text": [
      "loss: 1.868906 [ 6464/60000]\n",
      "loss: 1.752769 [12864/60000]\n",
      "loss: 1.788315 [19264/60000]\n",
      "loss: 1.664736 [25664/60000]\n",
      "loss: 1.625886 [32064/60000]\n",
      "loss: 1.642278 [38464/60000]\n",
      "loss: 1.549191 [44864/60000]\n",
      "loss: 1.567876 [51264/60000]\n",
      "loss: 1.462352 [57664/60000]\n",
      "Test Error: \n",
      " Accuracy: 62.0%, Avg loss: 1.485905 \n",
      "\n",
      "loss: 1.554900 [   64/60000]\n"
     ]
    },
    {
     "name": "stdout",
     "output_type": "stream",
     "text": [
      "Epoch 4\n",
      "-------------------------------\n"
     ]
    },
    {
     "name": "stderr",
     "output_type": "stream",
     "text": [
      "loss: 1.524868 [ 6464/60000]\n",
      "loss: 1.373897 [12864/60000]\n",
      "loss: 1.444257 [19264/60000]\n",
      "loss: 1.319284 [25664/60000]\n",
      "loss: 1.323704 [32064/60000]\n",
      "loss: 1.330556 [38464/60000]\n",
      "loss: 1.262573 [44864/60000]\n",
      "loss: 1.291577 [51264/60000]\n",
      "loss: 1.199781 [57664/60000]\n",
      "Test Error: \n",
      " Accuracy: 63.8%, Avg loss: 1.225706 \n",
      "\n",
      "loss: 1.305729 [   64/60000]\n"
     ]
    },
    {
     "name": "stdout",
     "output_type": "stream",
     "text": [
      "Epoch 5\n",
      "-------------------------------\n"
     ]
    },
    {
     "name": "stderr",
     "output_type": "stream",
     "text": [
      "loss: 1.292722 [ 6464/60000]\n",
      "loss: 1.121146 [12864/60000]\n",
      "loss: 1.228600 [19264/60000]\n",
      "loss: 1.102470 [25664/60000]\n",
      "loss: 1.130284 [32064/60000]\n",
      "loss: 1.147705 [38464/60000]\n",
      "loss: 1.089495 [44864/60000]\n",
      "loss: 1.122277 [51264/60000]\n",
      "loss: 1.050716 [57664/60000]\n",
      "Test Error: \n",
      " Accuracy: 64.9%, Avg loss: 1.067876 \n",
      "\n",
      "loss: 1.141800 [   64/60000]\n"
     ]
    },
    {
     "name": "stdout",
     "output_type": "stream",
     "text": [
      "Epoch 6\n",
      "-------------------------------\n"
     ]
    },
    {
     "name": "stderr",
     "output_type": "stream",
     "text": [
      "loss: 1.150753 [ 6464/60000]\n",
      "loss: 0.958464 [12864/60000]\n",
      "loss: 1.096836 [19264/60000]\n",
      "loss: 0.970960 [25664/60000]\n",
      "loss: 1.000341 [32064/60000]\n",
      "loss: 1.037703 [38464/60000]\n",
      "loss: 0.981761 [44864/60000]\n",
      "loss: 1.012943 [51264/60000]\n",
      "loss: 0.958939 [57664/60000]\n",
      "Test Error: \n",
      " Accuracy: 65.9%, Avg loss: 0.967380 \n",
      "\n",
      "loss: 1.029049 [   64/60000]\n"
     ]
    },
    {
     "name": "stdout",
     "output_type": "stream",
     "text": [
      "Epoch 7\n",
      "-------------------------------\n"
     ]
    },
    {
     "name": "stderr",
     "output_type": "stream",
     "text": [
      "loss: 1.060349 [ 6464/60000]\n",
      "loss: 0.848625 [12864/60000]\n",
      "loss: 1.010015 [19264/60000]\n",
      "loss: 0.888463 [25664/60000]\n",
      "loss: 0.909918 [32064/60000]\n",
      "loss: 0.966861 [38464/60000]\n",
      "loss: 0.913388 [44864/60000]\n",
      "loss: 0.938565 [51264/60000]\n",
      "loss: 0.898043 [57664/60000]\n",
      "Test Error: \n",
      " Accuracy: 67.2%, Avg loss: 0.899626 \n",
      "\n",
      "loss: 0.947157 [   64/60000]\n"
     ]
    },
    {
     "name": "stdout",
     "output_type": "stream",
     "text": [
      "Epoch 8\n",
      "-------------------------------\n"
     ]
    },
    {
     "name": "stderr",
     "output_type": "stream",
     "text": [
      "loss: 0.998051 [ 6464/60000]\n",
      "loss: 0.771021 [12864/60000]\n",
      "loss: 0.948681 [19264/60000]\n",
      "loss: 0.833577 [25664/60000]\n",
      "loss: 0.844620 [32064/60000]\n",
      "loss: 0.917493 [38464/60000]\n",
      "loss: 0.868643 [44864/60000]\n",
      "loss: 0.885739 [51264/60000]\n",
      "loss: 0.854637 [57664/60000]\n",
      "Test Error: \n",
      " Accuracy: 68.3%, Avg loss: 0.851254 \n",
      "\n",
      "loss: 0.884939 [   64/60000]\n"
     ]
    },
    {
     "name": "stdout",
     "output_type": "stream",
     "text": [
      "Epoch 9\n",
      "-------------------------------\n"
     ]
    },
    {
     "name": "stderr",
     "output_type": "stream",
     "text": [
      "loss: 0.951391 [ 6464/60000]\n",
      "loss: 0.713793 [12864/60000]\n",
      "loss: 0.903064 [19264/60000]\n",
      "loss: 0.794348 [25664/60000]\n",
      "loss: 0.795807 [32064/60000]\n",
      "loss: 0.880052 [38464/60000]\n",
      "loss: 0.837634 [44864/60000]\n",
      "loss: 0.846820 [51264/60000]\n",
      "loss: 0.821505 [57664/60000]\n",
      "Test Error: \n",
      " Accuracy: 69.5%, Avg loss: 0.814692 \n",
      "\n",
      "loss: 0.835588 [   64/60000]\n"
     ]
    },
    {
     "name": "stdout",
     "output_type": "stream",
     "text": [
      "Epoch 10\n",
      "-------------------------------\n"
     ]
    },
    {
     "name": "stderr",
     "output_type": "stream",
     "text": [
      "loss: 0.913664 [ 6464/60000]\n",
      "loss: 0.669732 [12864/60000]\n",
      "loss: 0.867636 [19264/60000]\n",
      "loss: 0.764484 [25664/60000]\n",
      "loss: 0.758057 [32064/60000]\n",
      "loss: 0.849325 [38464/60000]\n",
      "loss: 0.814843 [44864/60000]\n",
      "loss: 0.816822 [51264/60000]\n",
      "loss: 0.794512 [57664/60000]\n",
      "Test Error: \n",
      " Accuracy: 70.7%, Avg loss: 0.785475 \n",
      "\n"
     ]
    },
    {
     "name": "stdout",
     "output_type": "stream",
     "text": [
      "Done!\n",
      "CPU times: user 26.8 s, sys: 2.06 s, total: 28.8 s\n",
      "Wall time: 33 s\n"
     ]
    }
   ],
   "source": [
    "%%time\n",
    "# GPU使用?\n",
    "\n",
    "epochs = 10\n",
    "for t in range(epochs):\n",
    "    print(f\"Epoch {t+1}\\n-------------------------------\")\n",
    "    train_loop(train_dataloader, model, loss_fn, optimizer)\n",
    "    test_loop(test_dataloader, model, loss_fn)\n",
    "print(\"Done!\")"
   ]
  },
  {
   "cell_type": "code",
   "execution_count": null,
   "id": "3e9f08ac-8479-4837-a7cc-3e050615dff7",
   "metadata": {},
   "outputs": [],
   "source": []
  }
 ],
 "metadata": {
  "kernelspec": {
   "display_name": "Pytorch Basic",
   "language": "python",
   "name": "pytorch_basic_venv"
  },
  "language_info": {
   "codemirror_mode": {
    "name": "ipython",
    "version": 3
   },
   "file_extension": ".py",
   "mimetype": "text/x-python",
   "name": "python",
   "nbconvert_exporter": "python",
   "pygments_lexer": "ipython3",
   "version": "3.11.9"
  }
 },
 "nbformat": 4,
 "nbformat_minor": 5
}
